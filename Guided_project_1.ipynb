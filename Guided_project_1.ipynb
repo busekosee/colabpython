{
  "cells": [
    {
      "cell_type": "markdown",
      "metadata": {
        "id": "view-in-github",
        "colab_type": "text"
      },
      "source": [
        "<a href=\"https://colab.research.google.com/github/busekosee/colabpython/blob/main/Guided_project_1.ipynb\" target=\"_parent\"><img src=\"https://colab.research.google.com/assets/colab-badge.svg\" alt=\"Open In Colab\"/></a>"
      ]
    },
    {
      "cell_type": "markdown",
      "source": [
        "# Chapter 1\n",
        "### Your first day at your new job 👩‍💻👨‍💻\n",
        "\n",
        "You are starting a new job as a junior software developer in an IT company.\n",
        "\n",
        "The company’s HR department asks you to fill out a form, so you start by assigning your personal information to corresponding variables.\n",
        "\n",
        "📌 Create a variable for your name, surname, age, ID number, place of residence, to specify if you have active health insurance or not, and lastly one for specifying your nationality.\n"
      ],
      "metadata": {
        "id": "VMuUK0ap_bRD"
      }
    },
    {
      "cell_type": "code",
      "execution_count": null,
      "metadata": {
        "id": "OPLhhc2Sp-D0"
      },
      "outputs": [],
      "source": [
        "#Please assign your personal information to variables\n",
        "my_name = \"buse\"\n",
        "my_surname = \"kose\"\n",
        "my_age = 23\n",
        "ID_number = 123456789\n",
        "where_i_live = \"London\"\n",
        "health_insurance = True"
      ]
    },
    {
      "cell_type": "markdown",
      "metadata": {
        "id": "3zaUlxwcp-D0"
      },
      "source": [
        "###Meet And Greet\n",
        "Introduce yourself to your new co-workers.\n",
        "\n",
        "📌 Use a f-string to print \"My name is Joey Tribbiani I am 25 years old and I live in London”."
      ]
    },
    {
      "cell_type": "code",
      "source": [
        "#Write a sentence using the print function to describe yourself using the variables above in the correct data type\n",
        "print(f\"My name is {my_name} {my_surname} I am {str(my_age)} years old, I live İn {where_i_live}\")"
      ],
      "metadata": {
        "id": "XNuh5_2WXwvg",
        "colab": {
          "base_uri": "https://localhost:8080/"
        },
        "outputId": "fd5e1206-2954-4242-fc88-a4aab2e4e77f"
      },
      "execution_count": null,
      "outputs": [
        {
          "output_type": "stream",
          "name": "stdout",
          "text": [
            "My name is buse kose I am 23 years old, I live İn London\n"
          ]
        }
      ]
    },
    {
      "cell_type": "markdown",
      "metadata": {
        "id": "EEL9To4ip-D1"
      },
      "source": [
        "### Equipment starter pack\n",
        "The HR department asks you to list the items you would need to improve your work efficiency\n",
        "\n",
        "Mandatory:\n",
        "* Laptop\n",
        "* Headset\n",
        "* Second monitor\n",
        "\n",
        "Optional:\n",
        "* Mousepad\n",
        "* USB drive\n",
        "* External drive\n",
        "\n",
        "\n",
        "📌 Create a shopping list that contains items above and print it."
      ]
    },
    {
      "cell_type": "code",
      "execution_count": null,
      "metadata": {
        "id": "fPFBLDyqp-D2"
      },
      "outputs": [],
      "source": [
        "#Create the item_list\n",
        "item_list = ['Laptop','Headset','Second monitor','Mousepad','USB drive','External Drive']"
      ]
    },
    {
      "cell_type": "code",
      "source": [
        "#Print the list\n",
        "print(item_list)"
      ],
      "metadata": {
        "id": "358R_CN5U2-J",
        "colab": {
          "base_uri": "https://localhost:8080/"
        },
        "outputId": "3b53fe27-3dbe-4a0f-f479-e7e6beda6cc9"
      },
      "execution_count": null,
      "outputs": [
        {
          "output_type": "stream",
          "name": "stdout",
          "text": [
            "['Laptop', 'Headset', 'Second monitor', 'Mousepad', 'USB drive', 'External Drive']\n"
          ]
        }
      ]
    },
    {
      "cell_type": "markdown",
      "metadata": {
        "id": "5keEWjCyp-D2"
      },
      "source": [
        "####What is mandatory and what is optional?\n",
        "\n",
        "📌 Use list slicing to devide your list in two list: 'mandatory_item_list' and 'optional_item_list' and print both to the screen."
      ]
    },
    {
      "cell_type": "code",
      "execution_count": null,
      "metadata": {
        "id": "E6ewuDYZp-D2"
      },
      "outputs": [],
      "source": [
        "#Use list slicing to divide the mandatory items\n",
        "mandatory_item_list = item_list[0:3]"
      ]
    },
    {
      "cell_type": "code",
      "source": [
        "#Use list slicing to divide the optional items\n",
        "optional_item_list = item_list[3:6]"
      ],
      "metadata": {
        "id": "hOmkym01RGEL"
      },
      "execution_count": null,
      "outputs": []
    },
    {
      "cell_type": "code",
      "source": [
        "#Print both to the screen\n",
        "print(mandatory_item_list)\n",
        "print(optional_item_list)"
      ],
      "metadata": {
        "id": "xsVv1_msVE1_",
        "colab": {
          "base_uri": "https://localhost:8080/"
        },
        "outputId": "a4118f43-d37b-488c-b65a-00c037096395"
      },
      "execution_count": null,
      "outputs": [
        {
          "output_type": "stream",
          "name": "stdout",
          "text": [
            "['Laptop', 'Headset', 'Second monitor']\n",
            "['Mousepad', 'USB drive', 'External Drive']\n"
          ]
        }
      ]
    },
    {
      "cell_type": "markdown",
      "metadata": {
        "id": "s_M1Q93wp-D3"
      },
      "source": [
        "#### Go Shopping\n",
        "Next, you will have to go and purchase these items, the finance department confirmed a budget of $5000.\n",
        "\n",
        "📌 Assign 5000 to a variable called limit, so you know how much you can spend."
      ]
    },
    {
      "cell_type": "code",
      "execution_count": null,
      "metadata": {
        "id": "nCmpm0oqp-D3"
      },
      "outputs": [],
      "source": [
        "#Assign the spending limit value to a variable called limit\n",
        "limit = 5000"
      ]
    },
    {
      "cell_type": "markdown",
      "metadata": {
        "id": "VwbEEymVp-D3"
      },
      "source": [
        "####Price dictionary\n",
        "\n",
        "Before you start shopping yo need to find the best items that you can buy within the company budget.\n",
        "\n",
        "📌 Prepare a dictionary called “price_sheet” that includes the items as keys and the prices as values.  \n"
      ]
    },
    {
      "cell_type": "code",
      "execution_count": null,
      "metadata": {
        "id": "9o9n9Ag-p-D3"
      },
      "outputs": [],
      "source": [
        "#Create a dictionary that contains each item and its price\n",
        "price_sheet = {\n",
        "    'Laptop': 1500,\n",
        "    'Headset' : 100,\n",
        "    'Second monitor':200,\n",
        "    'Mousepad':50,\n",
        "    'USB drive':70,\n",
        "    'External drive':250\n",
        "\n",
        "}\n"
      ]
    },
    {
      "cell_type": "markdown",
      "metadata": {
        "id": "rUYivBVEBhCv"
      },
      "source": [
        "####Shopping functions\n",
        "\n",
        "You need to define three functions that will help you during shopping.\n",
        "\n",
        "📌 First, create an empty list that  will be your shopping cart. Here you will add the items you need to purchase.\n",
        "\n",
        "1. Define a function for both adding items to the cart and removing them from the item_list.\n",
        "\n",
        "📌 The \"add_to_cart\" function should take the item name and the quantity to buy as an argument.\n",
        "\n",
        "2. Define a function that will create an invoice.\n",
        "\n",
        "📌 The \"create_invoice\" function should calculate the taxes of each item (18%) and add it to the total amount.\n",
        "\n",
        "3. Define a function for the checkout.\n",
        "\n",
        "📌 The \"checkout\" function should subtract the total amount from the budget and print a statement to inform if the payment was successful."
      ]
    },
    {
      "cell_type": "code",
      "source": [
        "#Initialize the cart list\n",
        "cart =[]"
      ],
      "metadata": {
        "id": "dBNZ2ZdkGHUe"
      },
      "execution_count": null,
      "outputs": []
    },
    {
      "cell_type": "code",
      "source": [
        "#Define the \"add_to_cart\" function\n",
        "def add_to_cart (item,quantity):\n",
        "  cart.append((item,quantity))\n"
      ],
      "metadata": {
        "id": "HH26hHHFGKPJ"
      },
      "execution_count": null,
      "outputs": []
    },
    {
      "cell_type": "code",
      "source": [
        "#Define the \"create_invoice\" function\n",
        "def create_invoice():\n",
        "  total_amount_inc_tax = 0\n",
        "  for item,quantity in cart:\n",
        "    price =price_sheet[item]\n",
        "    tax = 0.18*price\n",
        "    total = (tax+price)*quantity\n",
        "    total_amount_inc_tax += total\n",
        "    print('Item:',item,'\\t','Price:',price,'\\t','Quantity:',quantity,'\\t','Tax:',tax,'\\t','Total:',total,'\\n')\n",
        "    print(\"After the taxes are applied the total amount is:\",'\\t',total_amount_inc_tax)\n",
        "    return total_amount_inc_tax\n"
      ],
      "metadata": {
        "id": "TUmNr4xVGQdm"
      },
      "execution_count": null,
      "outputs": []
    },
    {
      "cell_type": "code",
      "source": [
        "#Define the \"checkout\" function\n",
        "def checkout():\n",
        "  global limit\n",
        "  total_amount = create_invoice()\n",
        "  if limit == 0:\n",
        "    print(\"you dont have any budget\")\n",
        "  elif total_amount > limit:\n",
        "      print(\"the amount you have to pay is above the spending limit. you have to drop some items.\")\n",
        "  else:\n",
        "        limit -= total_amount\n",
        "        print(f\"the total amount (incl.taxes) you've paid is {total_amount}. You have {limit} dollars left\")\n"
      ],
      "metadata": {
        "id": "iUlKiXgMGdIk"
      },
      "execution_count": null,
      "outputs": []
    },
    {
      "cell_type": "markdown",
      "source": [
        "Let's shop!"
      ],
      "metadata": {
        "id": "2IFUlu0yB0In"
      }
    },
    {
      "cell_type": "code",
      "source": [
        "#Call the \"add_to_cart\" function for each item\n",
        "\n",
        "#Add first item to cart\n",
        "\n",
        "add_to_cart(\"Laptop\", 1)\n",
        "\n",
        "#Add second item to cart\n",
        "add_to_cart(\"Headset\",8)\n",
        "\n",
        "#Add third item to cart\n",
        "add_to_cart(\"Second monitor\",1)\n",
        "\n",
        "#Add fourth item to cart\n",
        "add_to_cart(\"Mousepad\",1)\n",
        "\n",
        "\n",
        "\n",
        "#Add fifth item to cart\n",
        "add_to_cart(\"USB drive\",2)\n",
        "\n",
        "#Add last item to cart\n",
        "add_to_cart(\"External drive\", 4)\n",
        "\n",
        "\n",
        "\n",
        "#Call the create \"checkout\" function to pay for all your items\n",
        "checkout()"
      ],
      "metadata": {
        "id": "FDO7CRJTWPg7",
        "colab": {
          "base_uri": "https://localhost:8080/"
        },
        "outputId": "bea41546-e163-48b9-a8e9-16bf2f3e04d0"
      },
      "execution_count": null,
      "outputs": [
        {
          "output_type": "stream",
          "name": "stdout",
          "text": [
            "Item: Laptop \t Price: 1500 \t Quantity: 1 \t Tax: 270.0 \t Total: 1770.0 \n",
            "\n",
            "After the taxes are applied the total amount is: \t 1770.0\n",
            "the total amount (incl.taxes) you've paid is 1770.0. You have 3230.0 dollars left\n"
          ]
        }
      ]
    },
    {
      "cell_type": "markdown",
      "source": [
        "###Game Night\n",
        "\n",
        "You are back at the office and the HR department organizes a welcome party for new employees.\n",
        "\n",
        "You decide to create a Rock-Paper-Scissor game.\n",
        "\n",
        "📌 Create a Rock-Paper-Scissor game in which the user plays against the computer. The player will choose one of the actions, and the computer will choose its action randomly.\n"
      ],
      "metadata": {
        "id": "ZL-r2x_xKixg"
      }
    },
    {
      "cell_type": "code",
      "source": [
        "#Import the random library\n",
        "import random"
      ],
      "metadata": {
        "id": "qzD5pxBTgcFb"
      },
      "execution_count": 1,
      "outputs": []
    },
    {
      "cell_type": "code",
      "source": [
        "#create a list containing the three actions of the game.\n",
        "action_list = [ 'rock','paper','scissors']"
      ],
      "metadata": {
        "id": "oJv-ihLAgcRo"
      },
      "execution_count": 3,
      "outputs": []
    },
    {
      "cell_type": "code",
      "source": [
        "import random\n",
        "\n",
        "computer_score = 0\n",
        "player_score = 0\n",
        "\n",
        "# Ask the user how many rounds they want to play\n",
        "total_rounds = int(input(\"How many rounds do you want to play? Please enter a number here: \"))\n",
        "\n",
        "# Define the possible actions\n",
        "action_list = ['rock', 'paper', 'scissors']\n",
        "\n",
        "# Add a round_counter that is 0 at the beginning\n",
        "round_counter = 0\n",
        "\n",
        "# Write a while loop and put the game inside\n",
        "while True:\n",
        "    # Increase round_counter by and print it\n",
        "    round_counter += 1\n",
        "    print(\"Round number:\", round_counter)\n",
        "\n",
        "    # Select a random action for computer\n",
        "    computer_choice = random.choice(action_list)\n",
        "\n",
        "    # Ask player to choose an action\n",
        "    player_choice = input(\"Please choose your action: \")\n",
        "\n",
        "    # Print the players choices\n",
        "    print(\"Computer:\", computer_choice)\n",
        "    print(\"Player:\", player_choice)\n",
        "\n",
        "    # Tie condition\n",
        "    if computer_choice == player_choice:\n",
        "        print(\"Tie! Both players chose the same action.\")\n",
        "\n",
        "    # Remaining conditions\n",
        "    elif computer_choice == 'paper':\n",
        "        if player_choice == 'rock':\n",
        "            print(\"Winner is: Computer\")\n",
        "            computer_score += 1\n",
        "        else:\n",
        "            print(\"Winner is: Player\")\n",
        "            player_score += 1\n",
        "    elif computer_choice == 'rock':\n",
        "        if player_choice == 'paper':\n",
        "            print(\"Winner is: Player\")\n",
        "            player_score += 1\n",
        "        else:\n",
        "            print(\"Winner is: Computer\")\n",
        "            computer_score += 1\n",
        "    elif computer_choice == 'scissors':\n",
        "        if player_choice == 'paper':\n",
        "            print(\"Winner is: Computer\")\n",
        "            computer_score += 1\n",
        "        else:\n",
        "            print(\"Winner is: Player\")\n",
        "            player_score += 1\n",
        "\n",
        "    # Stop the while loop if the round_counter equals the number of total rounds\n",
        "    if round_counter == total_rounds:\n",
        "        break\n",
        "\n",
        "# Print the outcome of the game by using conditional statements\n",
        "if computer_score == player_score:\n",
        "    print(\"There is no winner, it's a tie.\", computer_score, \":\", player_score)\n",
        "elif computer_score > player_score:\n",
        "    print(\"Computer won with score\", computer_score, \":\", player_score)\n",
        "else:\n",
        "    print(\"Player won with score\", computer_score, \":\", player_score)\n"
      ],
      "metadata": {
        "id": "DNUa_9afWqMd",
        "colab": {
          "base_uri": "https://localhost:8080/"
        },
        "outputId": "6dfcfd3b-06ec-49a6-c2a0-9c3f873badf8"
      },
      "execution_count": 4,
      "outputs": [
        {
          "output_type": "stream",
          "name": "stdout",
          "text": [
            "How many rounds do you want to play? Please enter a number here: 3\n",
            "Round number: 1\n",
            "Please choose your action: paper\n",
            "Computer: paper\n",
            "Player: paper\n",
            "Tie! Both players chose the same action.\n",
            "Round number: 2\n",
            "Please choose your action: rock\n",
            "Computer: scissors\n",
            "Player: rock\n",
            "Winner is: Player\n",
            "Round number: 3\n",
            "Please choose your action: scissors\n",
            "Computer: rock\n",
            "Player: scissors\n",
            "Winner is: Computer\n",
            "There is no winner, it's a tie. 1 : 1\n"
          ]
        }
      ]
    },
    {
      "cell_type": "markdown",
      "metadata": {
        "id": "jdrYN0Xgp-D6"
      },
      "source": [
        "# Your first task\n",
        "\n",
        "Rachel asks you to write a program to track the name and revenue each employee brings.  \n",
        "\n",
        "* Create the \"salesperson_revenue\" dictionary to see the employee name as a key and the revenue as a value.\n",
        "\n",
        "  📌 Every employee starts with 0 revenue.\n",
        "* Define the \"enter_revenue\" function.\n",
        "\n",
        "  📌 The function takes the name and revenue as an argument and updates the salesperson_revenue dictionary.\n"
      ]
    },
    {
      "cell_type": "code",
      "source": [
        "#Create salesperson_revenue dictionary\n",
        "salesperson_revenue = {\n",
        "    \"ben\":0,\n",
        "    \"ömer\":0,\n",
        "    \"karen\":0,\n",
        "    \"celine\":0,\n",
        "    \"rose\":0,\n",
        "    \"borak\":0,\n",
        "    \"ellen\":0\n",
        "\n",
        "}"
      ],
      "metadata": {
        "id": "3vzRo7hyMRv2"
      },
      "execution_count": 5,
      "outputs": []
    },
    {
      "cell_type": "code",
      "source": [
        "#Define enter_revenue function\n",
        "def enter_revenue(name,revenue):\n",
        "  global salesperson_revenue\n",
        "  salesperson_revenue[name] +=revenue\n"
      ],
      "metadata": {
        "id": "m-8IozBwMRzM"
      },
      "execution_count": 6,
      "outputs": []
    },
    {
      "cell_type": "markdown",
      "source": [
        "####Try out the functions\n",
        "* In a while loop ask the user to give the name of the employee and for the revenue\n",
        "\n",
        "  📌 If the user enters “quit” the loop should break.\n",
        "\n",
        "After that, print out the salesperson_revenue dictionary.\n"
      ],
      "metadata": {
        "id": "UnTGSoNTi58u"
      }
    },
    {
      "cell_type": "code",
      "source": [
        "#Asking user employee name as input\n",
        "while True:\n",
        "  name = input(\"employe name:\")\n",
        "  if name == \"quit\":\n",
        "    break\n",
        "  revenue = int(input(\"enter revenue:\"))\n",
        "  enter_revenue(name,revenue)\n",
        "  print(f\"{name}'s revenue is {salesperson_revenue[name]}\")"
      ],
      "metadata": {
        "id": "2E549VvFXNi6",
        "colab": {
          "base_uri": "https://localhost:8080/"
        },
        "outputId": "5c99d0fb-99d9-4186-d75d-b539b3e1c9dd"
      },
      "execution_count": 8,
      "outputs": [
        {
          "name": "stdout",
          "output_type": "stream",
          "text": [
            "employe name:ellen\n",
            "enter revenue:22\n",
            "ellen's revenue is 62\n",
            "employe name:ben\n",
            "enter revenue:45\n",
            "ben's revenue is 65\n",
            "employe name:borak\n",
            "enter revenue:48\n",
            "borak's revenue is 48\n",
            "employe name:ömer\n",
            "enter revenue:59\n",
            "ömer's revenue is 59\n",
            "employe name:rose\n",
            "enter revenue:56\n",
            "rose's revenue is 86\n",
            "employe name:celine\n",
            "enter revenue:23\n",
            "celine's revenue is 23\n",
            "employe name:karen\n",
            "enter revenue:47\n",
            "karen's revenue is 47\n",
            "employe name:quit\n"
          ]
        }
      ]
    },
    {
      "cell_type": "code",
      "source": [
        "#Print the salesperson_revenue dictionary\n",
        "print(salesperson_revenue)"
      ],
      "metadata": {
        "id": "OAvl9rgOXPe6",
        "colab": {
          "base_uri": "https://localhost:8080/"
        },
        "outputId": "3e5157b3-f5ad-47b1-f277-7ef58e3b7ee1"
      },
      "execution_count": 9,
      "outputs": [
        {
          "output_type": "stream",
          "name": "stdout",
          "text": [
            "{'ben': 65, 'ömer': 59, 'karen': 47, 'celine': 23, 'rose': 86, 'borak': 48, 'ellen': 62}\n"
          ]
        }
      ]
    }
  ],
  "metadata": {
    "interpreter": {
      "hash": "c5914ae3790566b9cd0e984a9bdda42a29da8adf046b5ac0173e0d37aacf3dab"
    },
    "kernelspec": {
      "display_name": "Python 3.9.7",
      "language": "python",
      "name": "python3"
    },
    "language_info": {
      "codemirror_mode": {
        "name": "ipython",
        "version": 3
      },
      "file_extension": ".py",
      "mimetype": "text/x-python",
      "name": "python",
      "nbconvert_exporter": "python",
      "pygments_lexer": "ipython3",
      "version": "3.9.7"
    },
    "orig_nbformat": 4,
    "colab": {
      "provenance": [],
      "include_colab_link": true
    }
  },
  "nbformat": 4,
  "nbformat_minor": 0
}